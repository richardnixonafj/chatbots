{
 "cells": [
  {
   "cell_type": "markdown",
   "metadata": {},
   "source": [
    "# Chatbot simples com Python e NLTK"
   ]
  },
  {
   "cell_type": "markdown",
   "metadata": {},
   "source": [
    "## Etapa 1: Testes com o chatbot Eliza\n",
    "\n",
    "- Eliza em Lisp: https://www.youtube.com/watch?v=X2O2mn6PqyM&t=2s\n",
    "- Mais chatbots: https://www.nltk.org/api/nltk.chat.html"
   ]
  },
  {
   "cell_type": "code",
   "execution_count": null,
   "metadata": {},
   "outputs": [],
   "source": [
    "pip install nltk\n",
    "#instala lib nltk\n",
    "\n",
    "nltk.download()\n",
    "# abre interface grafica para baixar pacotes nltk"
   ]
  },
  {
   "cell_type": "code",
   "execution_count": 7,
   "metadata": {},
   "outputs": [],
   "source": [
    "import nltk"
   ]
  },
  {
   "cell_type": "code",
   "execution_count": 8,
   "metadata": {},
   "outputs": [
    {
     "name": "stdout",
     "output_type": "stream",
     "text": [
      "Therapist\n",
      "---------\n",
      "Talk to the program by typing in plain English, using normal upper-\n",
      "and lower-case letters and punctuation.  Enter \"quit\" when done.\n",
      "========================================================================\n",
      "Hello.  How are you feeling today?\n",
      ">hi\n",
      "Why do you say that hi?\n",
      ">hello\n",
      "Hello, how are you feeling today?\n",
      ">great and you?\n",
      "Why do you ask that?\n",
      ">i do not know\n",
      "Can you elaborate on that?\n",
      ">i do not know\n",
      "Very interesting.\n",
      ">what?\n",
      "Why do you ask that?\n",
      ">but..\n",
      "Very interesting.\n",
      ">why?\n",
      "Please consider whether you can answer your own question.\n",
      ">ok!\n",
      "How does that make you feel?\n",
      ">good\n",
      "How does that make you feel?\n",
      ">i am good\n",
      "Did you come to me because you are good?\n",
      ">i,m happiness\n",
      "How does that make you feel?\n",
      ">quit\n",
      "Thank you for talking with me.\n"
     ]
    }
   ],
   "source": [
    "nltk.chat.eliza.demo()"
   ]
  },
  {
   "cell_type": "markdown",
   "metadata": {},
   "source": [
    "## Etapa 2: Pacote chat do NLTK\n",
    "\n",
    "- Chat: lógica usada pelo chatbot\n",
    "- reflections: dicionário com entradas e suas respectivas saídas"
   ]
  },
  {
   "cell_type": "code",
   "execution_count": 1,
   "metadata": {},
   "outputs": [],
   "source": [
    "import nltk\n",
    "from nltk.chat.util import Chat, reflections"
   ]
  },
  {
   "cell_type": "code",
   "execution_count": 2,
   "metadata": {},
   "outputs": [
    {
     "data": {
      "text/plain": [
       "{'i am': 'you are',\n",
       " 'i was': 'you were',\n",
       " 'i': 'you',\n",
       " \"i'm\": 'you are',\n",
       " \"i'd\": 'you would',\n",
       " \"i've\": 'you have',\n",
       " \"i'll\": 'you will',\n",
       " 'my': 'your',\n",
       " 'you are': 'I am',\n",
       " 'you were': 'I was',\n",
       " \"you've\": 'I have',\n",
       " \"you'll\": 'I will',\n",
       " 'your': 'my',\n",
       " 'yours': 'mine',\n",
       " 'you': 'me',\n",
       " 'me': 'you'}"
      ]
     },
     "execution_count": 2,
     "metadata": {},
     "output_type": "execute_result"
    }
   ],
   "source": [
    "reflections"
   ]
  },
  {
   "cell_type": "code",
   "execution_count": 3,
   "metadata": {},
   "outputs": [],
   "source": [
    "reflections_pt = {'eu': 'você',\n",
    "                  'eu sou': 'você é',\n",
    "                  'eu era': 'você era',\n",
    "                  \"eu iria\": 'você iria',\n",
    "                  \"eu irei\": 'você irá',\n",
    "                  'meu': 'seu',\n",
    "                  'você': 'eu',\n",
    "                  'você é': 'eu sou',\n",
    "                  'você era': 'eu era',\n",
    "                  \"você irá\": 'eu irei',\n",
    "                  'seu': 'meu'}"
   ]
  },
  {
   "cell_type": "code",
   "execution_count": 4,
   "metadata": {},
   "outputs": [
    {
     "data": {
      "text/plain": [
       "{'eu': 'você',\n",
       " 'eu sou': 'você é',\n",
       " 'eu era': 'você era',\n",
       " 'eu iria': 'você iria',\n",
       " 'eu irei': 'você irá',\n",
       " 'meu': 'seu',\n",
       " 'você': 'eu',\n",
       " 'você é': 'eu sou',\n",
       " 'você era': 'eu era',\n",
       " 'você irá': 'eu irei',\n",
       " 'seu': 'meu'}"
      ]
     },
     "execution_count": 4,
     "metadata": {},
     "output_type": "execute_result"
    }
   ],
   "source": [
    "reflections_pt"
   ]
  },
  {
   "cell_type": "code",
   "execution_count": 5,
   "metadata": {},
   "outputs": [],
   "source": [
    "pares = [\n",
    "    [\n",
    "     r'oi|olá|opa',\n",
    "     ['olá', 'como vai?', 'tudo bem?']\n",
    "    ],\n",
    "    [\n",
    "     r'qual é o seu nome?',\n",
    "     ['Meu nome é Chat e eu sou um chatbot']\n",
    "    ],  \n",
    "    [\n",
    "     r'(.*) idade?',\n",
    "     ['Não tenho idade pois sou um chatbot']\n",
    "    ], \n",
    "    [\n",
    "     r'meu nome é (.*)',\n",
    "     ['Olá %1, como você está hoje?']\n",
    "    ],  \n",
    "    [\n",
    "     r'eu trabalho na empresa (.*)',\n",
    "     ['Eu conheço a empresa %1']\n",
    "    ], \n",
    "    [\n",
    "     r'(.*) (cidade|país)',\n",
    "     ['Porto União, Brasil']\n",
    "    ], \n",
    "    [\n",
    "     r'quit',\n",
    "     ['Até breve', 'Foi bom conversar com você. Até breve!']\n",
    "    ]     \n",
    "]"
   ]
  },
  {
   "cell_type": "code",
   "execution_count": 6,
   "metadata": {},
   "outputs": [
    {
     "name": "stdout",
     "output_type": "stream",
     "text": [
      "Olá, sou o chat!\n",
      ">ola\n",
      "None\n",
      ">olã\n",
      "None\n",
      ">oi\n",
      "olá\n",
      ">tudo bem\n",
      "None\n",
      ">qual é seu nome\n",
      "None\n",
      ">eu trabalho na empresa x\n",
      "Eu conheço a empresa x\n",
      ">quit\n",
      "Foi bom conversar com você. Até breve!\n"
     ]
    }
   ],
   "source": [
    "print('Olá, sou o chat!')\n",
    "chat = Chat(pares, reflections_pt)\n",
    "chat.converse()"
   ]
  },
  {
   "cell_type": "code",
   "execution_count": null,
   "metadata": {},
   "outputs": [],
   "source": []
  }
 ],
 "metadata": {
  "kernelspec": {
   "display_name": "Python 3",
   "language": "python",
   "name": "python3"
  },
  "language_info": {
   "codemirror_mode": {
    "name": "ipython",
    "version": 3
   },
   "file_extension": ".py",
   "mimetype": "text/x-python",
   "name": "python",
   "nbconvert_exporter": "python",
   "pygments_lexer": "ipython3",
   "version": "3.8.5"
  }
 },
 "nbformat": 4,
 "nbformat_minor": 4
}
